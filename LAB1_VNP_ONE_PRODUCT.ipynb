{
  "nbformat": 4,
  "nbformat_minor": 0,
  "metadata": {
    "colab": {
      "provenance": []
    },
    "kernelspec": {
      "name": "python3",
      "display_name": "Python 3"
    },
    "language_info": {
      "name": "python"
    }
  },
  "cells": [
    {
      "cell_type": "code",
      "source": [
        "import requests\n",
        "import pandas as pd\n",
        "from bs4 import BeautifulSoup\n",
        "\n",
        "url='https://clevershop.mk/product-category/mobilni-laptopi-i-tableti/'\n",
        "response=requests.get(url)\n",
        "response.status_code\n",
        "\n",
        "if response.status_code == 200:\n",
        "  soup=BeautifulSoup(response.content,'html.parser')\n",
        "\n",
        "products=soup.select('.product-grid-item')\n",
        "parsed_products=[]\n",
        "for product in products:\n",
        "  title=product.select_one('.wd-entities-title').text.strip()\n",
        "  prices = product.select('.woocommerce-Price-amount')\n",
        "  regular_price = prices[0].text.strip() if prices else None\n",
        "  discount_price = prices[1].text.strip() if len(prices) > 1 else None\n",
        "  url=product.select_one('.wd-entities-title a')['href']\n",
        "  button=product.select_one('a.add_to_cart_button')['href']\n",
        "\n",
        "  product_dictionary={\n",
        "      'ProductName':title,\n",
        "      'ProductPrice':regular_price,\n",
        "      'DiscountedPrice':discount_price,\n",
        "      'ProductPage':url,\n",
        "      'AddToCartButton':button\n",
        "  }\n",
        "  parsed_products.append(product_dictionary)\n",
        "\n",
        "df = pd.DataFrame(parsed_products)\n",
        "df.to_csv('products.csv', encoding='utf-8-sig')\n",
        "from google.colab import files\n",
        "files.download('products.csv')"
      ],
      "metadata": {
        "colab": {
          "base_uri": "https://localhost:8080/",
          "height": 17
        },
        "id": "Ogx6Ml_nbZJw",
        "outputId": "fad1a9d3-7fce-4f36-ab81-baf7aee6bee6"
      },
      "execution_count": 6,
      "outputs": [
        {
          "output_type": "display_data",
          "data": {
            "text/plain": [
              "<IPython.core.display.Javascript object>"
            ],
            "application/javascript": [
              "\n",
              "    async function download(id, filename, size) {\n",
              "      if (!google.colab.kernel.accessAllowed) {\n",
              "        return;\n",
              "      }\n",
              "      const div = document.createElement('div');\n",
              "      const label = document.createElement('label');\n",
              "      label.textContent = `Downloading \"${filename}\": `;\n",
              "      div.appendChild(label);\n",
              "      const progress = document.createElement('progress');\n",
              "      progress.max = size;\n",
              "      div.appendChild(progress);\n",
              "      document.body.appendChild(div);\n",
              "\n",
              "      const buffers = [];\n",
              "      let downloaded = 0;\n",
              "\n",
              "      const channel = await google.colab.kernel.comms.open(id);\n",
              "      // Send a message to notify the kernel that we're ready.\n",
              "      channel.send({})\n",
              "\n",
              "      for await (const message of channel.messages) {\n",
              "        // Send a message to notify the kernel that we're ready.\n",
              "        channel.send({})\n",
              "        if (message.buffers) {\n",
              "          for (const buffer of message.buffers) {\n",
              "            buffers.push(buffer);\n",
              "            downloaded += buffer.byteLength;\n",
              "            progress.value = downloaded;\n",
              "          }\n",
              "        }\n",
              "      }\n",
              "      const blob = new Blob(buffers, {type: 'application/binary'});\n",
              "      const a = document.createElement('a');\n",
              "      a.href = window.URL.createObjectURL(blob);\n",
              "      a.download = filename;\n",
              "      div.appendChild(a);\n",
              "      a.click();\n",
              "      div.remove();\n",
              "    }\n",
              "  "
            ]
          },
          "metadata": {}
        },
        {
          "output_type": "display_data",
          "data": {
            "text/plain": [
              "<IPython.core.display.Javascript object>"
            ],
            "application/javascript": [
              "download(\"download_d6237e05-9419-498d-b9a6-2044ea127cb4\", \"products.csv\", 3090)"
            ]
          },
          "metadata": {}
        }
      ]
    }
  ]
}