{
 "nbformat": 4,
 "nbformat_minor": 0,
 "metadata": {
  "colab": {
   "provenance": []
  },
  "kernelspec": {
   "name": "python3",
   "display_name": "Python 3"
  },
  "language_info": {
   "name": "python"
  }
 },
 "cells": [
  {
   "cell_type": "code",
   "execution_count": 4,
   "metadata": {
    "colab": {
     "base_uri": "https://localhost:8080/",
     "height": 17
    },
    "id": "Bgq3Z6t-ossN",
    "outputId": "36743c16-863f-4d6e-e8f7-3cd3089a42b0"
   },
   "outputs": [
    {
     "output_type": "display_data",
     "data": {
      "text/plain": [
       "<IPython.core.display.Javascript object>"
      ],
      "application/javascript": [
       "\n",
       "    async function download(id, filename, size) {\n",
       "      if (!google.colab.kernel.accessAllowed) {\n",
       "        return;\n",
       "      }\n",
       "      const div = document.createElement('div');\n",
       "      const label = document.createElement('label');\n",
       "      label.textContent = `Downloading \"${filename}\": `;\n",
       "      div.appendChild(label);\n",
       "      const progress = document.createElement('progress');\n",
       "      progress.max = size;\n",
       "      div.appendChild(progress);\n",
       "      document.body.appendChild(div);\n",
       "\n",
       "      const buffers = [];\n",
       "      let downloaded = 0;\n",
       "\n",
       "      const channel = await google.colab.kernel.comms.open(id);\n",
       "      // Send a message to notify the kernel that we're ready.\n",
       "      channel.send({})\n",
       "\n",
       "      for await (const message of channel.messages) {\n",
       "        // Send a message to notify the kernel that we're ready.\n",
       "        channel.send({})\n",
       "        if (message.buffers) {\n",
       "          for (const buffer of message.buffers) {\n",
       "            buffers.push(buffer);\n",
       "            downloaded += buffer.byteLength;\n",
       "            progress.value = downloaded;\n",
       "          }\n",
       "        }\n",
       "      }\n",
       "      const blob = new Blob(buffers, {type: 'application/binary'});\n",
       "      const a = document.createElement('a');\n",
       "      a.href = window.URL.createObjectURL(blob);\n",
       "      a.download = filename;\n",
       "      div.appendChild(a);\n",
       "      a.click();\n",
       "      div.remove();\n",
       "    }\n",
       "  "
      ]
     },
     "metadata": {}
    },
    {
     "output_type": "display_data",
     "data": {
      "text/plain": [
       "<IPython.core.display.Javascript object>"
      ],
      "application/javascript": [
       "download(\"download_b566fbb7-6f4a-4b20-9f8d-64c6d3aee2b4\", \"products_all_pages.csv\", 50970)"
      ]
     },
     "metadata": {}
    }
   ],
   "source": [
    "import requests\n",
    "import pandas as pd\n",
    "from bs4 import BeautifulSoup\n",
    "\n",
    "base_url='https://clevershop.mk/product-category/mobilni-laptopi-i-tableti/page/'\n",
    "response=requests.get(base_url+'1')\n",
    "response.status_code\n",
    "\n",
    "\n",
    "def extract_products_as_dict(product):\n",
    "  title=product.select_one('.wd-entities-title').text.strip()\n",
    "  prices = product.select('.woocommerce-Price-amount')\n",
    "  regular_price = prices[0].text.strip() if prices else None\n",
    "  discount_price = prices[1].text.strip() if len(prices) > 1 else None\n",
    "  url=product.select_one('.wd-entities-title a')['href']\n",
    "  button=product.select_one('a.add_to_cart_button')['href']\n",
    "\n",
    "  product_dictionary={\n",
    "      'ProductName':title,\n",
    "      'ProductPrice':regular_price,\n",
    "      'DiscountedPrice':discount_price,\n",
    "      'ProductPage':url,\n",
    "      'AddToCartButton':button\n",
    "  }\n",
    "  return product_dictionary\n",
    "\n",
    "all_products=[]\n",
    "for i in range(1,14):\n",
    "  url=base_url+str(i)\n",
    "  response=requests.get(url)\n",
    "  soup=BeautifulSoup(response.content,'html.parser')\n",
    "  products=soup.select('.product-grid-item')\n",
    "  for product in products:\n",
    "    result=extract_products_as_dict(product)\n",
    "    all_products.append(result)\n",
    "\n",
    "\n",
    "\n",
    "df=pd.DataFrame(all_products)\n",
    "df.to_csv('products_all_pages.csv', encoding='utf-8-sig')\n",
    "from google.colab import files\n",
    "files.download('products_all_pages.csv')\n",
    "\n",
    "\n"
   ]
  }
 ]
}
